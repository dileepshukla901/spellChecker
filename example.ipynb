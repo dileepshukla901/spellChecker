{
 "cells": [
  {
   "cell_type": "code",
   "execution_count": 9,
   "id": "4228fb21-a779-44c6-9898-48997e6bd808",
   "metadata": {},
   "outputs": [],
   "source": [
    "from scripts.SpellCheck import correction\n",
    "from collections import Counter"
   ]
  },
  {
   "cell_type": "markdown",
   "id": "e2e0d5a4-d2d9-43ff-92be-2cd218a5172b",
   "metadata": {},
   "source": [
    "- Example\n",
    "\n",
    "1. 1 edit misatkes: 'franch fryes' -> 'french fries'\n",
    "2. 2 edit mistakes: 'choclete' -> 'chocolate'"
   ]
  },
  {
   "cell_type": "code",
   "execution_count": 10,
   "id": "468d2de4-b93e-4090-9422-0908930d4156",
   "metadata": {},
   "outputs": [
    {
     "name": "stdout",
     "output_type": "stream",
     "text": [
      "french fires\n",
      "chocolate\n"
     ]
    }
   ],
   "source": [
    "print(correction(\"franch fries\"))\n",
    "print(correction(\"choclete\"))"
   ]
  },
  {
   "cell_type": "markdown",
   "id": "7c3f0c96-1150-4c22-9e1a-d780bd676ec0",
   "metadata": {},
   "source": [
    "--------------------------------"
   ]
  }
 ],
 "metadata": {
  "kernelspec": {
   "display_name": "Python 3 (ipykernel)",
   "language": "python",
   "name": "python3"
  },
  "language_info": {
   "codemirror_mode": {
    "name": "ipython",
    "version": 3
   },
   "file_extension": ".py",
   "mimetype": "text/x-python",
   "name": "python",
   "nbconvert_exporter": "python",
   "pygments_lexer": "ipython3",
   "version": "3.12.2"
  }
 },
 "nbformat": 4,
 "nbformat_minor": 5
}
